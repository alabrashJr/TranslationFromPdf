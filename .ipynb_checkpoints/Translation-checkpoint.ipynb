{
 "cells": [
  {
   "cell_type": "code",
   "execution_count": 1,
   "metadata": {},
   "outputs": [
    {
     "name": "stderr",
     "output_type": "stream",
     "text": [
      "/anaconda3/lib/python3.6/site-packages/requests/__init__.py:91: RequestsDependencyWarning: urllib3 (1.22) or chardet (2.3.0) doesn't match a supported version!\n",
      "  RequestsDependencyWarning)\n"
     ]
    }
   ],
   "source": [
    "import pdfminer.converter,os\n",
    "import pandas as pd\n",
    "from googletrans import Translator\n",
    "import sys\n",
    "from pdfminer.pdfinterp import PDFResourceManager, PDFPageInterpreter\n",
    "from pdfminer.pdfpage import PDFPage\n",
    "from pdfminer.converter import XMLConverter, HTMLConverter, TextConverter\n",
    "from pdfminer.layout import LAParams\n",
    "import io\n",
    "import itertools\n",
    "from json import JSONDecodeError\n",
    "import re\n",
    "import collections\n",
    "import operator"
   ]
  },
  {
   "cell_type": "code",
   "execution_count": 2,
   "metadata": {},
   "outputs": [],
   "source": [
    "path='/Users/abdulrhmanalabrash/Documents/SkyDrive/Attachments'"
   ]
  },
  {
   "cell_type": "code",
   "execution_count": 3,
   "metadata": {},
   "outputs": [],
   "source": [
    "pdffiles = list(filter(lambda x: x[-4:] == '.pdf', os.listdir(path) ))"
   ]
  },
  {
   "cell_type": "code",
   "execution_count": 4,
   "metadata": {},
   "outputs": [],
   "source": [
    "def pdfparser(data):\n",
    "\n",
    "    fp = open(data, 'rb')\n",
    "    rsrcmgr = PDFResourceManager()\n",
    "    retstr = io.StringIO()\n",
    "    codec = 'utf-8'\n",
    "    laparams = LAParams()\n",
    "    device = TextConverter(rsrcmgr, retstr, codec=codec, laparams=laparams)\n",
    "    # Create a PDF interpreter object.\n",
    "    interpreter = PDFPageInterpreter(rsrcmgr, device)\n",
    "    # Process each page contained in the document.\n",
    "    pages=[]\n",
    "    for page in PDFPage.get_pages(fp):\n",
    "        interpreter.process_page(page)\n",
    "        data =  retstr.getvalue()\n",
    "        pages.append(data)\n",
    "\n",
    "    return pages  "
   ]
  },
  {
   "cell_type": "code",
   "execution_count": 5,
   "metadata": {},
   "outputs": [],
   "source": [
    "contents=[pdfparser(os.path.join(path,x)) for x in pdffiles]\n"
   ]
  },
  {
   "cell_type": "code",
   "execution_count": 11,
   "metadata": {},
   "outputs": [],
   "source": [
    "translator = Translator()\n",
    "pageInd=[]\n",
    "pageIndex={}\n",
    "for pages,title in zip(contents,pdffiles):\n",
    "    pageInd=[]\n",
    "    for page in pages:\n",
    "        pageInd.append(len(page))\n",
    "    pageIndex[title]=pageInd"
   ]
  },
  {
   "cell_type": "code",
   "execution_count": 12,
   "metadata": {},
   "outputs": [
    {
     "data": {
      "text/plain": [
       "{'20031217_presidentepresidente17h36.pdf': [3721, 8493, 12653, 17740, 18514],\n",
       " '20031217_walterfeldman13h42.pdf': [4114, 9164, 11881],\n",
       " '20031217_presidente17h00.pdf': [3228, 6311],\n",
       " '20031217_wilsonsantos17h06.pdf': [3744, 8236, 12321, 17645, 20814],\n",
       " '20031210_presidente17h38.pdf': [2808, 7532, 12122, 15977],\n",
       " '20031217_rodrigomaia17h56.pdf': [3870, 8178, 12787, 13246],\n",
       " '20031217_presidentepresidente12h52.pdf': [4082, 9627, 13548],\n",
       " '20031217_odaircunha13h00.pdf': [4165, 10064, 15614, 15841],\n",
       " '20031217_presidente12h10.pdf': [2908, 6976, 11761, 16312, 20936, 22059],\n",
       " '20031217_eduardobarbosa13h20.pdf': [3502, 8344, 13274, 18724, 19370],\n",
       " '20031209_presidente17h44.pdf': [2886, 6862, 8027]}"
      ]
     },
     "execution_count": 12,
     "metadata": {},
     "output_type": "execute_result"
    }
   ],
   "source": [
    "pageIndex"
   ]
  },
  {
   "cell_type": "code",
   "execution_count": 74,
   "metadata": {},
   "outputs": [
    {
     "name": "stdout",
     "output_type": "stream",
     "text": [
      "(12653, 17739)\n",
      "(12321, 17644)\n",
      "(4082, 9626)\n",
      "(4165, 10063)\n",
      "(10064, 15613)\n",
      "(13274, 18723)\n"
     ]
    }
   ],
   "source": [
    "translatedDic={}\n",
    "_translatedPages=[]\n",
    "translator = Translator()\n",
    "for pdf,page,Indxs in zip(contents,pageIndex.keys(),pageIndex.values()):\n",
    "    _i=0\n",
    "    if len(_translatedPages)>1:\n",
    "        translatedDic[prevoius_page]=_translatedPages\n",
    "    _translatedPages=[]\n",
    "    prevoius_page=page\n",
    "    for Ind in Indxs:    \n",
    "        _to=Ind-1\n",
    "        try:\n",
    "            _t=(''.join(pdf[-1][_i:_to])).replace('\\n','')\n",
    "            _translatedPages.append(translator.translate(_t).text)\n",
    "        except JSONDecodeError:\n",
    "            print ('This is page can not be translated due to character len over 5K')\n",
    "            print (page,(_i,_to))\n",
    "            #print (str(pdf[_i:_to]))\n",
    "        _i=Ind\n",
    "translatedDic[page]=_translatedPages        "
   ]
  },
  {
   "cell_type": "code",
   "execution_count": 132,
   "metadata": {},
   "outputs": [],
   "source": [
    "#find the less frequentWord \n",
    "def lessFrequentWord(text):\n",
    "    words = text.split()\n",
    "    resulting_count = collections.Counter(words)\n",
    "    print (resulting_count)\n",
    "    return min(zip(resulting_count.keys(),resulting_count.values()), key=operator.itemgetter(1))[0]"
   ]
  },
  {
   "cell_type": "code",
   "execution_count": 133,
   "metadata": {},
   "outputs": [
    {
     "name": "stdout",
     "output_type": "stream",
     "text": [
      "Counter({'de': 24, 'que': 23, 'do': 22, 'a': 18, 'O': 16, 'SR.': 15, '-': 15, 'o': 11, 'Sr.': 9, 'não': 9, 'Presidente,': 8, 'e': 8, 'da': 8, 'em': 7, 'ordem.': 7, 'Sem': 7, 'revisão': 7, 'orador.)': 7, 'na': 7, 'PRESIDENTE': 7, '(João': 7, 'Paulo': 7, 'Cunha)': 7, 'conforme': 6, 'orientação': 6, 'dos': 6, 'Pela': 6, 'os': 6, 'votação': 5, 'projeto': 5, 'para': 5, 'ou': 5, 'pelo': 5, 'nº': 5, 'votei': 4, 'ao': 4, 'com': 4, 'no': 4, 'tem': 4, 'Bolsa': 4, 'Emenda': 4, 'palavra': 3, 'anos': 3, 'é': 3, 'até': 3, 'Em': 3, 'A': 3, 'por': 3, 'também': 3, 'benefício': 3, 'à': 3, 'benefícios': 3, 'às': 2, 'votaçãoanterior,': 2, 'PMDB.': 2, 'anterior,votei': 2, 'Deputados': 2, 'nobre': 2, '(Pausa.)': 2, 'Deputado': 2, 'Srs.': 2, 'emenda': 2, 'possibilidade': 2, 'recursos': 2, 'oriundos': 2, 'Família.': 2, 'Não': 2, 'seja': 2, 'anos.': 2, 'estudando': 2, 'partir': 2, 'momento': 2, 'ele': 2, 'uma': 2, 'De': 2, 'igual': 2, 'forma,': 2, 'se': 2, 'suas': 2, 'mais': 2, 'Programa': 2, 'queremos': 2, 'estender': 2, 'viver': 2, 'um': 2, 'Família': 2, 'viúvo': 2, 'meio': 2, 'Relator.': 2, 'famílias': 2, 'reais,': 2, 'conversão,': 2, 'E': 2, 'como': 2, 'ser': 2, 'DR.': 2, 'BENEDITO': 2, 'DIAS': 2, 'Discurso': 1, '17/12/2003': 1, '17:36votei': 1, 'Partido': 1, 'Trabalhadores.': 1, 'ZENALDO': 1, 'COUTINHO': 1, '(PSDB-PA.': 1, 'votação12/17/2018anterior,': 1, 'PSDB.': 1, 'LEONARDO': 1, 'PICCIANI': 1, '(PMDB-RJ.': 1, 'RICARDO': 1, 'BARROS': 1, '(PP-PR.': 1, 'PP.': 1, 'VIRGÍLIO': 1, 'GUIMARÃES': 1, '(PT-MG.': 1, 'PT.': 1, 'JOSÉ': 1, 'PRIANTE': 1, '(PMDB-PA.': 1, 'Todos': 1, 'Deputadas': 1, 'votaram,': 1, 'próximavotação,': 1, 'automaticamente,': 1, 'terão': 1, 'justificado': 1, 'seu': 1, 'voto.': 1, 'Para': 1, 'encaminhar': 1, 'votação,': 1, 'concedo': 1, 'DeputadoAntônio': 1, 'Carlos': 1, 'Magalhães': 1, 'Neto,': 1, 'falará': 1, 'favor': 1, 'matéria.': 1, 'Com': 1, 'Claudio': 1, 'Cajado.': 1, 'CLAUDIO': 1, 'CAJADO': 1, '(PFL-BA.': 1, 'Sras.': 1, 'Deputados,apresentamos': 1, 'esta': 1, 'intenção': 1, 'podermos': 1, 'incluir': 1, 'adolescentesaté18': 1, 'estarem': 1, 'dentro': 1, 'critérios': 1, 'fazer': 1, 'jus': 1, 'recebimento': 1, 'ProgramaBolsa': 1, 'possível': 1, 'considerado': 1, 'jovem': 1, 'quem': 1, '18': 1, 'idade.': 1, 'leide': 1, 'conversão': 1, 'prevê': 1, 'idade': 1, '15': 1, 'função': 1, 'baixa': 1, 'escolaridade': 1, 'nosso': 1, 'País,': 1, 'muitos': 1, 'jovens': 1, 'permanecem': 1, '16': 1, '17anos.': 1, 'condição': 1, 'pessoal': 1, 'familiar': 1, 'auferir': 1, 'algum': 1, 'recurso,': 1, 'vai-semanter': 1, 'indo': 1, 'criminalidade,': 1, 'largando': 1, 'escola': 1, 'trabalhar.': 1, 'Daí': 1, 'achamosimportante': 1, 'aprovação': 1, 'dessa': 1, 'inclui': 1, 'adolescente': 1, 'até18': 1, 'portadoresde': 1, 'deficiência': 1, 'física': 1, 'mental,': 1, 'muitas': 1, 'vezes': 1, 'ficam': 1, 'sem': 1, 'condições': 1, 'manter': 1, 'seio': 1, 'famílias.Nada': 1, 'justo': 1, 'eles': 1, 'serem': 1, 'beneficiados': 1, 'Reitero': 1, 'aos': 1, 'idosos': 1, '60': 1, 'anos,': 1, 'neste': 1, 'País,infelizmente,': 1, 'aposentadorias': 1, 'lhes': 1, 'permitem': 1, 'dignamente.': 1, 'Este': 1, 'apenas': 1, 'indicadores': 1, 'quea': 1, 'Constituição': 1, 'prevê,': 1, 'atendimento': 1, 'necessidade': 1, 'alimentação.': 1, 'Sabemos': 1, 'pode': 1, 'beneficiar': 1, 'aquele': 1, 'está': 1, 'pobreza': 1, 'abaixo': 1, 'linha': 1, 'dapobreza,': 1, 'independentemente': 1, 'faixa': 1, 'etária,': 1, 'esse': 1, 'artigo': 1, 'for': 1, 'incluído': 1, 'conversão.': 1, 'podemos': 1, 'nos': 1, 'esquecer': 1, 'viúva.': 1, 'Muitas': 1, 'vezes,': 1, 'casal': 1, 'consegue': 1, 'rendafamiliar': 1, 'mínima,': 1, 'mas': 1, 'quando': 1, 'cônjuges': 1, 'falece,': 1, 'dificuldade': 1, 'duplica,': 1, 'isso,': 1, 'desejamos': 1, 'obenefício': 1, 'viúva': 1, 'direito': 1, 'aposentadoria': 1, 'outro': 1, 'desubsistência.': 1, 'Também': 1, 'pretendemos': 1, 'sejam': 1, 'sempre': 1, 'majorados,': 1, 'foi': 1, 'acatado': 1, 'Noentanto,': 1, 'S.Exa.': 1, 'aceitou': 1, 'as': 1, 'hoje': 1, 'percebem': 1, 'Escola,': 1, 'Vale-Gás': 1, 'Cartão': 1, 'Alimentação': 1, 'tenham': 1, 'diminuídos.': 1, 'renda': 1, 'familiarpassa': 1, '120': 1, 'salário': 1, 'mínimo,': 1, '100': 1, 'teto': 1, 'estipulado': 1, 'estaremosexcluindo': 1, 'inúmeras': 1, 'receberem': 1, 'num': 1, 'futuro': 1, 'próximo.': 1, 'menda': 1, '1': 1, 'evita': 1, 'essa': 1, 'injustiça': 1, 'faz': 1, 'incorporado': 1, 'direito.': 1, 'igualforma,': 1, 'haja': 1, 'redução': 1, 'que,': 1, 'casos': 1, 'calamidade': 1, 'pública,': 1, 'programapossa': 1, 'utilizado': 1, 'caráter': 1, 'emergencial,': 1, 'sugestão': 1, 'acatada': 1, 'Portanto,': 1, 'encaminhamos': 1, 'favoravelmente': 1, '1,': 1, 'intuito': 1, 'fazermos': 1, 'nossas': 1, 'sugestões,algumas': 1, 'já': 1, 'incorporadas': 1, 'Relator': 1, 'lei': 1, 'possam,': 1, 'acatadas.': 1, '1.': 1, 'Os': 1, 'aprovam': 1, 'permaneçam': 1, 'seencontram.': 1, 'REJEITADA.': 1, 'peço': 1, 'pela': 1, 'Tem': 1, 'V.Exa.': 1, 'palavra.': 1, '(PP-AP.': 1, 'conformeorientação': 1, 'Liderança': 1, 'meu': 1, 'partido.': 1, 'Sobre': 1, 'mesarequerimento': 1, 'destaque': 1, 'separado': 1, '25,': 1, 'Sarney': 1, 'Filho.': 1, 'http://www.camara.leg.br/internet/sitaqweb/TextoHTML.asp?etapa=3&nuSessao=004.2.52.E&nuQuarto=109&nuOrador=2&nuInsercao=0&dtHora…': 1, '4/5': 1, '25.': 1})\n"
     ]
    },
    {
     "data": {
      "text/plain": [
       "'Discurso'"
      ]
     },
     "execution_count": 133,
     "metadata": {},
     "output_type": "execute_result"
    }
   ],
   "source": [
    "translator = Translator()\n",
    "pdf=contents[0]\n",
    "_i,_to=(12653, 17739)\n",
    "# t=(''.join(pdf[-1][_i:_to])).replace('\\n','')\n",
    "# translator.translate(t).text\n",
    "spliter=lessFrequentWord(pdf[-1][12653:17739].replace('\\n',''))\n",
    "#pdf[-1][12653:17739].replace('\\n','').split(spliter)\n",
    "spliter"
   ]
  },
  {
   "cell_type": "code",
   "execution_count": null,
   "metadata": {},
   "outputs": [],
   "source": []
  }
 ],
 "metadata": {
  "kernelspec": {
   "display_name": "Python 3",
   "language": "python",
   "name": "python3"
  },
  "language_info": {
   "codemirror_mode": {
    "name": "ipython",
    "version": 3
   },
   "file_extension": ".py",
   "mimetype": "text/x-python",
   "name": "python",
   "nbconvert_exporter": "python",
   "pygments_lexer": "ipython3",
   "version": "3.6.4"
  }
 },
 "nbformat": 4,
 "nbformat_minor": 2
}
